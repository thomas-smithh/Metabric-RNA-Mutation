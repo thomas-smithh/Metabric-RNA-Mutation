{
 "cells": [
  {
   "cell_type": "code",
   "execution_count": 1,
   "metadata": {},
   "outputs": [
    {
     "data": {
      "text/html": [
       "<style>.container { width:100% !important; }</style>"
      ],
      "text/plain": [
       "<IPython.core.display.HTML object>"
      ]
     },
     "metadata": {},
     "output_type": "display_data"
    }
   ],
   "source": [
    "from IPython.core.display import display, HTML\n",
    "display(HTML(\"<style>.container { width:100% !important; }</style>\"))"
   ]
  },
  {
   "cell_type": "code",
   "execution_count": 201,
   "metadata": {},
   "outputs": [],
   "source": [
    "import pandas as pd\n",
    "import numpy as np\n",
    "import matplotlib.pyplot as plt\n",
    "import seaborn as sns\n",
    "from pandas_profiling import ProfileReport\n",
    "from sklearn.preprocessing import LabelEncoder\n",
    "from sklearn.model_selection import train_test_split\n",
    "from keras import models, layers\n",
    "from keras.utils import to_categorical\n",
    "from keras import regularizers\n",
    "from xgboost import XGBClassifier\n",
    "pd.set_option(\"display.max_rows\", 1000)"
   ]
  },
  {
   "cell_type": "markdown",
   "metadata": {},
   "source": [
    "### Reading in Data and Applying Initial EDA"
   ]
  },
  {
   "cell_type": "code",
   "execution_count": 188,
   "metadata": {},
   "outputs": [
    {
     "data": {
      "text/plain": [
       "1    1174\n",
       "0     730\n",
       "Name: hormone_therapy, dtype: int64"
      ]
     },
     "execution_count": 188,
     "metadata": {},
     "output_type": "execute_result"
    }
   ],
   "source": [
    "data.hormone_therapy.value_counts()"
   ]
  },
  {
   "cell_type": "markdown",
   "metadata": {},
   "source": [
    "#### Things I can build with the data\n",
    "\n",
    "- Data Cleaning\n",
    "    * For numerical data - examine variables with highest correlation with the missing data - build regression model and make prediction and fill in missing data with predicted value\n",
    "    * For categorical data - Build a simple classifier and fill in any missing data\n",
    "- Exploratory data analysis: \n",
    "    * Draw standard correlations, heatmaps - that sort of thing\n",
    "    * Utilise clustering to create groups of people - stratified by age and explore death rate for various sub-groupings\n",
    "    * Itilise clustering to examine if various groups are more responsive to radio/chemo therapy\n",
    "- Classification Model Building:\n",
    "    * Predict overall_survival\n",
    "    * Tune models utilising grid search CV etc etc to prove ML ability - properly assess models by use of confusion matrices/ROC curves etc.\n",
    "    * Segment population \n",
    "    * After fitting a model, segment the test dataset by probability and observe and interpret correlations\n",
    "    * Build a model which looks to predict the best course of treatment for an individual given their proteome - \n",
    "- Regression Model Building \n",
    "    * Predict overall_survival months"
   ]
  },
  {
   "cell_type": "markdown",
   "metadata": {},
   "source": [
    "#### Data Cleaning"
   ]
  },
  {
   "cell_type": "code",
   "execution_count": 150,
   "metadata": {
    "scrolled": true
   },
   "outputs": [
    {
     "name": "stderr",
     "output_type": "stream",
     "text": [
      "C:\\Users\\tjs_1\\Anaconda3\\lib\\site-packages\\IPython\\core\\interactiveshell.py:3058: DtypeWarning: Columns (678,688,690,692) have mixed types.Specify dtype option on import or set low_memory=False.\n",
      "  interactivity=interactivity, compiler=compiler, result=result)\n"
     ]
    }
   ],
   "source": [
    "data = pd.read_csv('Data/METABRIC_RNA_Mutation.csv')\n",
    "data.drop('cancer_type', axis=1, inplace=True)"
   ]
  },
  {
   "cell_type": "code",
   "execution_count": 151,
   "metadata": {},
   "outputs": [],
   "source": [
    "profile = ProfileReport(data, title='Raw Data Profile Report')"
   ]
  },
  {
   "cell_type": "code",
   "execution_count": 152,
   "metadata": {},
   "outputs": [],
   "source": [
    "data.set_index('patient_id', inplace=True)\n",
    "nulls = data.isna().sum()[data.isna().sum() > 0]"
   ]
  },
  {
   "cell_type": "code",
   "execution_count": 153,
   "metadata": {},
   "outputs": [],
   "source": [
    "data = data.infer_objects()"
   ]
  },
  {
   "cell_type": "code",
   "execution_count": 154,
   "metadata": {},
   "outputs": [
    {
     "data": {
      "text/plain": [
       "float64    498\n",
       "object     189\n",
       "int64        4\n",
       "dtype: int64"
      ]
     },
     "execution_count": 154,
     "metadata": {},
     "output_type": "execute_result"
    }
   ],
   "source": [
    "data.dtypes.value_counts()"
   ]
  },
  {
   "cell_type": "markdown",
   "metadata": {},
   "source": [
    "We can see from the above that we have many columns with datatype object. These will need to be handled prior to the implentation of a modelling technique. "
   ]
  },
  {
   "cell_type": "code",
   "execution_count": 155,
   "metadata": {},
   "outputs": [
    {
     "data": {
      "text/plain": [
       "tp53_mut                     343\n",
       "muc16_mut                    298\n",
       "ahnak2_mut                   248\n",
       "kmt2c_mut                    222\n",
       "syne1_mut                    200\n",
       "                            ... \n",
       "her2_status                    2\n",
       "pr_status                      2\n",
       "er_status                      2\n",
       "er_status_measured_by_ihc      2\n",
       "type_of_breast_surgery         2\n",
       "Length: 189, dtype: int64"
      ]
     },
     "execution_count": 155,
     "metadata": {},
     "output_type": "execute_result"
    }
   ],
   "source": [
    "data.select_dtypes(include=['object']).nunique(axis=0).sort_values(ascending=False)"
   ]
  },
  {
   "cell_type": "markdown",
   "metadata": {},
   "source": [
    "- We can see from the above that many of the columns contain and intractable number of categories for one-hot-encoding.\n",
    "- We will therefore implement label encoding for the columns that signify genetic mutation. We will need to bare this in mind when selecting a modelling technique as the mutation columns will not be ordinal. \n",
    "\n",
    "Let's explore the lower limits of the unique data points of the object columns - this will help us determine at what limit we implement OHE."
   ]
  },
  {
   "cell_type": "code",
   "execution_count": 156,
   "metadata": {},
   "outputs": [
    {
     "data": {
      "text/plain": [
       "integrative_cluster               11\n",
       "tumor_other_histologic_subtype     8\n",
       "pam50_+_claudin-low_subtype        7\n",
       "oncotree_code                      6\n",
       "cancer_type_detailed               6\n",
       "3-gene_classifier_subtype          4\n",
       "her2_status_measured_by_snp6       4\n",
       "cellularity                        3\n",
       "death_from_cancer                  3\n",
       "inferred_menopausal_state          2\n",
       "primary_tumor_laterality           2\n",
       "her2_status                        2\n",
       "pr_status                          2\n",
       "er_status                          2\n",
       "er_status_measured_by_ihc          2\n",
       "type_of_breast_surgery             2\n",
       "dtype: int64"
      ]
     },
     "execution_count": 156,
     "metadata": {},
     "output_type": "execute_result"
    }
   ],
   "source": [
    "unique_items_in_object_cols = data.select_dtypes(include=['object']).nunique(axis=0).sort_values(ascending=False)\n",
    "unique_items_in_object_cols[[x for x in unique_items_in_object_cols.index if 'mut' not in x]]"
   ]
  },
  {
   "cell_type": "code",
   "execution_count": 162,
   "metadata": {},
   "outputs": [
    {
     "data": {
      "text/html": [
       "<div>\n",
       "<style scoped>\n",
       "    .dataframe tbody tr th:only-of-type {\n",
       "        vertical-align: middle;\n",
       "    }\n",
       "\n",
       "    .dataframe tbody tr th {\n",
       "        vertical-align: top;\n",
       "    }\n",
       "\n",
       "    .dataframe thead th {\n",
       "        text-align: right;\n",
       "    }\n",
       "</style>\n",
       "<table border=\"1\" class=\"dataframe\">\n",
       "  <thead>\n",
       "    <tr style=\"text-align: right;\">\n",
       "      <th></th>\n",
       "      <th>age_at_diagnosis</th>\n",
       "      <th>chemotherapy</th>\n",
       "      <th>cohort</th>\n",
       "      <th>neoplasm_histologic_grade</th>\n",
       "      <th>hormone_therapy</th>\n",
       "      <th>lymph_nodes_examined_positive</th>\n",
       "      <th>mutation_count</th>\n",
       "      <th>nottingham_prognostic_index</th>\n",
       "      <th>overall_survival_months</th>\n",
       "      <th>overall_survival</th>\n",
       "      <th>...</th>\n",
       "      <th>srd5a1</th>\n",
       "      <th>srd5a2</th>\n",
       "      <th>srd5a3</th>\n",
       "      <th>st7</th>\n",
       "      <th>star</th>\n",
       "      <th>tnk2</th>\n",
       "      <th>tulp4</th>\n",
       "      <th>ugt2b15</th>\n",
       "      <th>ugt2b17</th>\n",
       "      <th>ugt2b7</th>\n",
       "    </tr>\n",
       "  </thead>\n",
       "  <tbody>\n",
       "    <tr>\n",
       "      <th>count</th>\n",
       "      <td>1904.000000</td>\n",
       "      <td>1904.000000</td>\n",
       "      <td>1904.000000</td>\n",
       "      <td>1832.000000</td>\n",
       "      <td>1904.000000</td>\n",
       "      <td>1904.000000</td>\n",
       "      <td>1859.000000</td>\n",
       "      <td>1904.000000</td>\n",
       "      <td>1904.000000</td>\n",
       "      <td>1904.000000</td>\n",
       "      <td>...</td>\n",
       "      <td>1.904000e+03</td>\n",
       "      <td>1.904000e+03</td>\n",
       "      <td>1.904000e+03</td>\n",
       "      <td>1.904000e+03</td>\n",
       "      <td>1904.000000</td>\n",
       "      <td>1.904000e+03</td>\n",
       "      <td>1.904000e+03</td>\n",
       "      <td>1.904000e+03</td>\n",
       "      <td>1.904000e+03</td>\n",
       "      <td>1.904000e+03</td>\n",
       "    </tr>\n",
       "    <tr>\n",
       "      <th>mean</th>\n",
       "      <td>61.087054</td>\n",
       "      <td>0.207983</td>\n",
       "      <td>2.643908</td>\n",
       "      <td>2.415939</td>\n",
       "      <td>0.616597</td>\n",
       "      <td>2.002101</td>\n",
       "      <td>5.697687</td>\n",
       "      <td>4.033019</td>\n",
       "      <td>125.121324</td>\n",
       "      <td>0.420693</td>\n",
       "      <td>...</td>\n",
       "      <td>4.726891e-07</td>\n",
       "      <td>-3.676471e-07</td>\n",
       "      <td>-9.453782e-07</td>\n",
       "      <td>-1.050420e-07</td>\n",
       "      <td>-0.000002</td>\n",
       "      <td>3.676471e-07</td>\n",
       "      <td>4.726891e-07</td>\n",
       "      <td>7.878151e-07</td>\n",
       "      <td>-1.256581e-17</td>\n",
       "      <td>-1.953386e-18</td>\n",
       "    </tr>\n",
       "    <tr>\n",
       "      <th>std</th>\n",
       "      <td>12.978711</td>\n",
       "      <td>0.405971</td>\n",
       "      <td>1.228615</td>\n",
       "      <td>0.650612</td>\n",
       "      <td>0.486343</td>\n",
       "      <td>4.079993</td>\n",
       "      <td>4.058778</td>\n",
       "      <td>1.144492</td>\n",
       "      <td>76.334148</td>\n",
       "      <td>0.493800</td>\n",
       "      <td>...</td>\n",
       "      <td>1.000263e+00</td>\n",
       "      <td>1.000262e+00</td>\n",
       "      <td>1.000262e+00</td>\n",
       "      <td>1.000263e+00</td>\n",
       "      <td>1.000262</td>\n",
       "      <td>1.000264e+00</td>\n",
       "      <td>1.000262e+00</td>\n",
       "      <td>1.000263e+00</td>\n",
       "      <td>1.000262e+00</td>\n",
       "      <td>1.000262e+00</td>\n",
       "    </tr>\n",
       "    <tr>\n",
       "      <th>min</th>\n",
       "      <td>21.930000</td>\n",
       "      <td>0.000000</td>\n",
       "      <td>1.000000</td>\n",
       "      <td>1.000000</td>\n",
       "      <td>0.000000</td>\n",
       "      <td>0.000000</td>\n",
       "      <td>1.000000</td>\n",
       "      <td>1.000000</td>\n",
       "      <td>0.000000</td>\n",
       "      <td>0.000000</td>\n",
       "      <td>...</td>\n",
       "      <td>-2.120800e+00</td>\n",
       "      <td>-3.364800e+00</td>\n",
       "      <td>-2.719400e+00</td>\n",
       "      <td>-4.982700e+00</td>\n",
       "      <td>-2.981700</td>\n",
       "      <td>-3.833300e+00</td>\n",
       "      <td>-3.609300e+00</td>\n",
       "      <td>-1.166900e+00</td>\n",
       "      <td>-2.112600e+00</td>\n",
       "      <td>-1.051600e+00</td>\n",
       "    </tr>\n",
       "    <tr>\n",
       "      <th>25%</th>\n",
       "      <td>51.375000</td>\n",
       "      <td>0.000000</td>\n",
       "      <td>1.000000</td>\n",
       "      <td>2.000000</td>\n",
       "      <td>0.000000</td>\n",
       "      <td>0.000000</td>\n",
       "      <td>3.000000</td>\n",
       "      <td>3.046000</td>\n",
       "      <td>60.825000</td>\n",
       "      <td>0.000000</td>\n",
       "      <td>...</td>\n",
       "      <td>-6.188500e-01</td>\n",
       "      <td>-6.104750e-01</td>\n",
       "      <td>-6.741750e-01</td>\n",
       "      <td>-6.136750e-01</td>\n",
       "      <td>-0.632900</td>\n",
       "      <td>-6.664750e-01</td>\n",
       "      <td>-7.102000e-01</td>\n",
       "      <td>-5.058250e-01</td>\n",
       "      <td>-4.762000e-01</td>\n",
       "      <td>-7.260000e-01</td>\n",
       "    </tr>\n",
       "    <tr>\n",
       "      <th>50%</th>\n",
       "      <td>61.770000</td>\n",
       "      <td>0.000000</td>\n",
       "      <td>3.000000</td>\n",
       "      <td>3.000000</td>\n",
       "      <td>1.000000</td>\n",
       "      <td>0.000000</td>\n",
       "      <td>5.000000</td>\n",
       "      <td>4.042000</td>\n",
       "      <td>115.616667</td>\n",
       "      <td>0.000000</td>\n",
       "      <td>...</td>\n",
       "      <td>-2.456500e-01</td>\n",
       "      <td>-4.690000e-02</td>\n",
       "      <td>-1.422500e-01</td>\n",
       "      <td>-5.175000e-02</td>\n",
       "      <td>-0.026650</td>\n",
       "      <td>7.000000e-04</td>\n",
       "      <td>-2.980000e-02</td>\n",
       "      <td>-2.885500e-01</td>\n",
       "      <td>-1.334000e-01</td>\n",
       "      <td>-4.248000e-01</td>\n",
       "    </tr>\n",
       "    <tr>\n",
       "      <th>75%</th>\n",
       "      <td>70.592500</td>\n",
       "      <td>0.000000</td>\n",
       "      <td>3.000000</td>\n",
       "      <td>3.000000</td>\n",
       "      <td>1.000000</td>\n",
       "      <td>2.000000</td>\n",
       "      <td>7.000000</td>\n",
       "      <td>5.040250</td>\n",
       "      <td>184.716667</td>\n",
       "      <td>1.000000</td>\n",
       "      <td>...</td>\n",
       "      <td>3.306000e-01</td>\n",
       "      <td>5.144500e-01</td>\n",
       "      <td>5.146000e-01</td>\n",
       "      <td>5.787750e-01</td>\n",
       "      <td>0.590350</td>\n",
       "      <td>6.429000e-01</td>\n",
       "      <td>5.957250e-01</td>\n",
       "      <td>6.022500e-02</td>\n",
       "      <td>2.703750e-01</td>\n",
       "      <td>4.284000e-01</td>\n",
       "    </tr>\n",
       "    <tr>\n",
       "      <th>max</th>\n",
       "      <td>96.290000</td>\n",
       "      <td>1.000000</td>\n",
       "      <td>5.000000</td>\n",
       "      <td>3.000000</td>\n",
       "      <td>1.000000</td>\n",
       "      <td>45.000000</td>\n",
       "      <td>80.000000</td>\n",
       "      <td>6.360000</td>\n",
       "      <td>355.200000</td>\n",
       "      <td>1.000000</td>\n",
       "      <td>...</td>\n",
       "      <td>6.534900e+00</td>\n",
       "      <td>1.027030e+01</td>\n",
       "      <td>6.329000e+00</td>\n",
       "      <td>4.571300e+00</td>\n",
       "      <td>12.742300</td>\n",
       "      <td>3.938800e+00</td>\n",
       "      <td>3.833400e+00</td>\n",
       "      <td>1.088490e+01</td>\n",
       "      <td>1.264390e+01</td>\n",
       "      <td>3.284400e+00</td>\n",
       "    </tr>\n",
       "  </tbody>\n",
       "</table>\n",
       "<p>8 rows × 502 columns</p>\n",
       "</div>"
      ],
      "text/plain": [
       "       age_at_diagnosis  chemotherapy       cohort  neoplasm_histologic_grade  \\\n",
       "count       1904.000000   1904.000000  1904.000000                1832.000000   \n",
       "mean          61.087054      0.207983     2.643908                   2.415939   \n",
       "std           12.978711      0.405971     1.228615                   0.650612   \n",
       "min           21.930000      0.000000     1.000000                   1.000000   \n",
       "25%           51.375000      0.000000     1.000000                   2.000000   \n",
       "50%           61.770000      0.000000     3.000000                   3.000000   \n",
       "75%           70.592500      0.000000     3.000000                   3.000000   \n",
       "max           96.290000      1.000000     5.000000                   3.000000   \n",
       "\n",
       "       hormone_therapy  lymph_nodes_examined_positive  mutation_count  \\\n",
       "count      1904.000000                    1904.000000     1859.000000   \n",
       "mean          0.616597                       2.002101        5.697687   \n",
       "std           0.486343                       4.079993        4.058778   \n",
       "min           0.000000                       0.000000        1.000000   \n",
       "25%           0.000000                       0.000000        3.000000   \n",
       "50%           1.000000                       0.000000        5.000000   \n",
       "75%           1.000000                       2.000000        7.000000   \n",
       "max           1.000000                      45.000000       80.000000   \n",
       "\n",
       "       nottingham_prognostic_index  overall_survival_months  overall_survival  \\\n",
       "count                  1904.000000              1904.000000       1904.000000   \n",
       "mean                      4.033019               125.121324          0.420693   \n",
       "std                       1.144492                76.334148          0.493800   \n",
       "min                       1.000000                 0.000000          0.000000   \n",
       "25%                       3.046000                60.825000          0.000000   \n",
       "50%                       4.042000               115.616667          0.000000   \n",
       "75%                       5.040250               184.716667          1.000000   \n",
       "max                       6.360000               355.200000          1.000000   \n",
       "\n",
       "       ...        srd5a1        srd5a2        srd5a3           st7  \\\n",
       "count  ...  1.904000e+03  1.904000e+03  1.904000e+03  1.904000e+03   \n",
       "mean   ...  4.726891e-07 -3.676471e-07 -9.453782e-07 -1.050420e-07   \n",
       "std    ...  1.000263e+00  1.000262e+00  1.000262e+00  1.000263e+00   \n",
       "min    ... -2.120800e+00 -3.364800e+00 -2.719400e+00 -4.982700e+00   \n",
       "25%    ... -6.188500e-01 -6.104750e-01 -6.741750e-01 -6.136750e-01   \n",
       "50%    ... -2.456500e-01 -4.690000e-02 -1.422500e-01 -5.175000e-02   \n",
       "75%    ...  3.306000e-01  5.144500e-01  5.146000e-01  5.787750e-01   \n",
       "max    ...  6.534900e+00  1.027030e+01  6.329000e+00  4.571300e+00   \n",
       "\n",
       "              star          tnk2         tulp4       ugt2b15       ugt2b17  \\\n",
       "count  1904.000000  1.904000e+03  1.904000e+03  1.904000e+03  1.904000e+03   \n",
       "mean     -0.000002  3.676471e-07  4.726891e-07  7.878151e-07 -1.256581e-17   \n",
       "std       1.000262  1.000264e+00  1.000262e+00  1.000263e+00  1.000262e+00   \n",
       "min      -2.981700 -3.833300e+00 -3.609300e+00 -1.166900e+00 -2.112600e+00   \n",
       "25%      -0.632900 -6.664750e-01 -7.102000e-01 -5.058250e-01 -4.762000e-01   \n",
       "50%      -0.026650  7.000000e-04 -2.980000e-02 -2.885500e-01 -1.334000e-01   \n",
       "75%       0.590350  6.429000e-01  5.957250e-01  6.022500e-02  2.703750e-01   \n",
       "max      12.742300  3.938800e+00  3.833400e+00  1.088490e+01  1.264390e+01   \n",
       "\n",
       "             ugt2b7  \n",
       "count  1.904000e+03  \n",
       "mean  -1.953386e-18  \n",
       "std    1.000262e+00  \n",
       "min   -1.051600e+00  \n",
       "25%   -7.260000e-01  \n",
       "50%   -4.248000e-01  \n",
       "75%    4.284000e-01  \n",
       "max    3.284400e+00  \n",
       "\n",
       "[8 rows x 502 columns]"
      ]
     },
     "execution_count": 162,
     "metadata": {},
     "output_type": "execute_result"
    }
   ],
   "source": [
    "data.describe()"
   ]
  },
  {
   "cell_type": "markdown",
   "metadata": {},
   "source": [
    "So we see from the above that the vast majority of object cols are related to descriptions of genetic mutations and those columns contain large numbers of unique values. We will one hot encode "
   ]
  },
  {
   "cell_type": "code",
   "execution_count": 157,
   "metadata": {},
   "outputs": [],
   "source": [
    "mutation_cols = [x for x in data.columns if 'mut' in x and x != 'mutation_count']\n",
    "(data[mutation_cols].isna().sum() > 0).sum()"
   ]
  },
  {
   "cell_type": "code",
   "execution_count": 147,
   "metadata": {},
   "outputs": [],
   "source": [
    "data = pd.concat([data.drop(mutation_cols, 1), pd.get_dummies(data[mutation_cols])], axis=1)"
   ]
  },
  {
   "cell_type": "code",
   "execution_count": 64,
   "metadata": {},
   "outputs": [],
   "source": [
    "data = pd.concat([data.drop(mutation_cols, axis=1), transformed_data], axis=1)"
   ]
  },
  {
   "cell_type": "code",
   "execution_count": 65,
   "metadata": {},
   "outputs": [
    {
     "data": {
      "text/plain": [
       "age_at_diagnosis           0\n",
       "type_of_breast_surgery    22\n",
       "cancer_type_detailed      15\n",
       "cellularity               54\n",
       "chemotherapy               0\n",
       "                          ..\n",
       "hras_mut                   0\n",
       "prps2_mut                  0\n",
       "smarcb1_mut                0\n",
       "stmn2_mut                  0\n",
       "siah1_mut                  0\n",
       "Length: 691, dtype: int64"
      ]
     },
     "execution_count": 65,
     "metadata": {},
     "output_type": "execute_result"
    }
   ],
   "source": [
    "data.isna().sum()"
   ]
  },
  {
   "cell_type": "markdown",
   "metadata": {},
   "source": [
    "### Building Models to automatically interpolate data\n",
    "\n",
    "Below I will implement the data_interpolator function from model_utils. This will automatically build a series of decision trees off the available data in order to interpolate null values in the data. Note that for robust model training and assessment, we will later have to separate training and test sets in our data pipeline in order to avoid information leakage from training to test."
   ]
  },
  {
   "cell_type": "code",
   "execution_count": 239,
   "metadata": {},
   "outputs": [
    {
     "data": {
      "text/plain": [
       "<module 'model_utils' from 'C:\\\\Users\\\\tjs_1\\\\OneDrive\\\\Documents\\\\Git repos\\\\Metabric-RNA-Mutation\\\\model_utils.py'>"
      ]
     },
     "execution_count": 239,
     "metadata": {},
     "output_type": "execute_result"
    }
   ],
   "source": [
    "reload(mu)"
   ]
  },
  {
   "cell_type": "code",
   "execution_count": 240,
   "metadata": {
    "scrolled": false
   },
   "outputs": [
    {
     "data": {
      "application/vnd.jupyter.widget-view+json": {
       "model_id": "0fe68fa5cc2d4d2086e76f758b3a43c4",
       "version_major": 2,
       "version_minor": 0
      },
      "text/plain": [
       "HBox(children=(FloatProgress(value=0.0, max=13.0), HTML(value='')))"
      ]
     },
     "metadata": {},
     "output_type": "display_data"
    },
    {
     "name": "stdout",
     "output_type": "stream",
     "text": [
      "\n"
     ]
    }
   ],
   "source": [
    "data = mu.data_interpolator(data)"
   ]
  },
  {
   "cell_type": "markdown",
   "metadata": {},
   "source": [
    "# Building Quick Model For Guidance"
   ]
  },
  {
   "cell_type": "code",
   "execution_count": 66,
   "metadata": {},
   "outputs": [],
   "source": [
    "from sklearn.tree import DecisionTreeClassifier\n",
    "from sklearn.linear_model import LogisticRegression"
   ]
  },
  {
   "cell_type": "code",
   "execution_count": 67,
   "metadata": {},
   "outputs": [],
   "source": [
    "data = pd.concat([data.dropna(axis=1), data.death_from_cancer], axis=1)"
   ]
  },
  {
   "cell_type": "code",
   "execution_count": 73,
   "metadata": {},
   "outputs": [],
   "source": [
    "data = data[data.death_from_cancer.notna()]"
   ]
  },
  {
   "cell_type": "code",
   "execution_count": 74,
   "metadata": {},
   "outputs": [],
   "source": [
    "X, y = data.select_dtypes(exclude=['object']).fillna(0).values, data.death_from_cancer.values"
   ]
  },
  {
   "cell_type": "code",
   "execution_count": 75,
   "metadata": {},
   "outputs": [],
   "source": [
    "X_train, X_val, y_train, y_val = train_test_split(X, y, test_size=0.1, stratify=y)\n",
    "y_encoder = LabelEncoder()\n",
    "y_train = y_encoder.fit_transform(y_train)\n",
    "y_val = y_encoder.transform(y_val)"
   ]
  },
  {
   "cell_type": "code",
   "execution_count": 78,
   "metadata": {},
   "outputs": [
    {
     "data": {
      "text/plain": [
       "0.8115183246073299"
      ]
     },
     "execution_count": 78,
     "metadata": {},
     "output_type": "execute_result"
    }
   ],
   "source": [
    "from sklearn.metrics import accuracy_score\n",
    "xgb = XGBClassifier(max_depth=5)\n",
    "xgb.fit(X_train, y_train)\n",
    "accuracy_score(xgb.predict(X_val), y_val)"
   ]
  },
  {
   "cell_type": "code",
   "execution_count": 82,
   "metadata": {},
   "outputs": [
    {
     "data": {
      "text/plain": [
       "array([['age_at_diagnosis', '0.0077329944'],\n",
       "       ['chemotherapy', '0.009456122'],\n",
       "       ['cohort', '0.00302665'],\n",
       "       ...,\n",
       "       ['smarcb1_mut', '0.0'],\n",
       "       ['stmn2_mut', '0.0'],\n",
       "       ['siah1_mut', '0.0']], dtype='<U29')"
      ]
     },
     "execution_count": 82,
     "metadata": {},
     "output_type": "execute_result"
    }
   ],
   "source": [
    "np.array(list(zip(data.select_dtypes(exclude=['object']).columns, xgb.feature_importances_)))"
   ]
  },
  {
   "cell_type": "code",
   "execution_count": 83,
   "metadata": {},
   "outputs": [],
   "source": [
    "import model_utils as mu"
   ]
  },
  {
   "cell_type": "code",
   "execution_count": 86,
   "metadata": {},
   "outputs": [],
   "source": [
    "from importlib import reload"
   ]
  },
  {
   "cell_type": "code",
   "execution_count": 121,
   "metadata": {},
   "outputs": [
    {
     "data": {
      "text/plain": [
       "<module 'model_utils' from 'C:\\\\Users\\\\tjs_1\\\\OneDrive\\\\Documents\\\\Git repos\\\\Metabric-RNA-Mutation\\\\model_utils.py'>"
      ]
     },
     "execution_count": 121,
     "metadata": {},
     "output_type": "execute_result"
    }
   ],
   "source": [
    "reload(mu)"
   ]
  },
  {
   "cell_type": "code",
   "execution_count": 122,
   "metadata": {
    "scrolled": false
   },
   "outputs": [
    {
     "data": {
      "image/png": "[encoded data removed]",
      "text/plain": [
       "<Figure size 432x1152 with 1 Axes>"
      ]
     },
     "metadata": {
      "needs_background": "light"
     },
     "output_type": "display_data"
    }
   ],
   "source": [
    "mu.plot_feature_importance(data.select_dtypes(exclude=['object']).columns, xgb.feature_importances_, 50)"
   ]
  },
  {
   "cell_type": "code",
   "execution_count": null,
   "metadata": {},
   "outputs": [],
   "source": []
  }
 ],
 "metadata": {
  "kernelspec": {
   "display_name": "Python 3",
   "language": "python",
   "name": "python3"
  },
  "language_info": {
   "codemirror_mode": {
    "name": "ipython",
    "version": 3
   },
   "file_extension": ".py",
   "mimetype": "text/x-python",
   "name": "python",
   "nbconvert_exporter": "python",
   "pygments_lexer": "ipython3",
   "version": "3.7.4"
  }
 },
 "nbformat": 4,
 "nbformat_minor": 2
}
