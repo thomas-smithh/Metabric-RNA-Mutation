{
 "cells": [
  {
   "cell_type": "code",
   "execution_count": 1,
   "metadata": {},
   "outputs": [
    {
     "data": {
      "text/html": [
       "<style>.container { width:100% !important; }</style>"
      ],
      "text/plain": [
       "<IPython.core.display.HTML object>"
      ]
     },
     "metadata": {},
     "output_type": "display_data"
    }
   ],
   "source": [
    "from IPython.core.display import display, HTML\n",
    "display(HTML(\"<style>.container { width:100% !important; }</style>\"))"
   ]
  },
  {
   "cell_type": "code",
   "execution_count": 67,
   "metadata": {},
   "outputs": [],
   "source": [
    "import pandas as pd\n",
    "import numpy as np\n",
    "import matplotlib.pyplot as plt\n",
    "import seaborn as sns\n",
    "from sklearn.preprocessing import LabelEncoder\n",
    "from sklearn.model_selection import train_test_split\n",
    "from xgboost import XGBClassifier\n",
    "from importlib import reload\n",
    "import model_utils as mu\n",
    "from sklearn.cluster import DBSCAN, KMeans\n",
    "from sklearn.neighbors import NearestNeighbors\n",
    "from sklearn.metrics import accuracy_score\n",
    "from sklearn.decomposition import PCA\n",
    "from sklearn.model_selection import GridSearchCV\n",
    "from sklearn.metrics import SCORERS\n",
    "from sklearn.ensemble import RandomForestClassifier\n",
    "import scikitplot as skplot\n",
    "from sklearn.base import BaseEstimator, TransformerMixin\n",
    "from sklearn.pipeline import Pipeline\n",
    "from sklearn.impute import SimpleImputer\n",
    "from sklearn.preprocessing import StandardScaler, OneHotEncoder\n",
    "from sklearn.compose import ColumnTransformer\n",
    "pd.set_option(\"display.max_rows\", 1000)"
   ]
  },
  {
   "cell_type": "markdown",
   "metadata": {},
   "source": [
    "#### Things I can build with the data\n",
    "\n",
    "- Data Cleaning\n",
    "    * For numerical data - examine variables with highest correlation with the missing data - build regression model and make prediction and fill in missing data with predicted value\n",
    "    * For categorical data - Build a simple classifier and fill in any missing data\n",
    "- Exploratory data analysis: \n",
    "    * Draw standard correlations, heatmaps - that sort of thing\n",
    "    * Utilise clustering to create groups of people - stratified by age and explore death rate for various sub-groupings\n",
    "    * Itilise clustering to examine if various groups are more responsive to radio/chemo therapy\n",
    "- Classification Model Building:\n",
    "    * Predict overall_survival\n",
    "    * Tune models utilising grid search CV etc etc to prove ML ability - properly assess models by use of confusion matrices/ROC curves etc.\n",
    "    * Segment population \n",
    "    * After fitting a model, segment the test dataset by probability and observe and interpret correlations\n",
    "    * Build a model which looks to predict the best course of treatment for an individual given their proteome - \n",
    "- Regression Model Building \n",
    "    * Predict overall_survival months\n",
    "- Explore patients who have undergone chemo and their cellularity post chemo - attempt to build an idea of proteome of patient most susceptible to chemo"
   ]
  },
  {
   "cell_type": "markdown",
   "metadata": {},
   "source": [
    "### List of Important Caveats to mention"
   ]
  },
  {
   "cell_type": "markdown",
   "metadata": {},
   "source": [
    "- \"Death from Cancer\" metric -> \"died of other causes\" - we do not know if these other causes were related to the cancer\n",
    "- When building model purely from proteomic data, there may be other factors influencing the outcome, it's impossible to normalize/control for this. "
   ]
  },
  {
   "cell_type": "markdown",
   "metadata": {},
   "source": [
    "### Questions to ask\n",
    "\n",
    "- What are the biggest challenges you face in terms of data quality? Is there often data missing?\n",
    "- What are the biggest challenges you face in general?\n",
    "- What sort of data sizes are you dealing with on a day to day basis? Big Data or 100's of samples?"
   ]
  },
  {
   "cell_type": "markdown",
   "metadata": {},
   "source": [
    "### Data Cleaning & Preprocessing"
   ]
  },
  {
   "cell_type": "code",
   "execution_count": 31,
   "metadata": {},
   "outputs": [],
   "source": [
    "def convert_death_from_cancer(data):\n",
    "    if data == 'Living' or data == 'Died of Other Causes':\n",
    "        return 0\n",
    "    else:\n",
    "        return 1"
   ]
  },
  {
   "cell_type": "code",
   "execution_count": 39,
   "metadata": {},
   "outputs": [
    {
     "name": "stderr",
     "output_type": "stream",
     "text": [
      "C:\\Users\\tjs_1\\Anaconda3\\lib\\site-packages\\IPython\\core\\interactiveshell.py:3058: DtypeWarning: Columns (678,688,690,692) have mixed types.Specify dtype option on import or set low_memory=False.\n",
      "  interactivity=interactivity, compiler=compiler, result=result)\n"
     ]
    }
   ],
   "source": [
    "data = pd.read_csv('Data/METABRIC_RNA_Mutation.csv')\n",
    "protein_columns = list(data.select_dtypes(exclude=['object']).columns)[14:]\n",
    "data.drop(['cancer_type', 'cohort'], axis=1, inplace=True)\n",
    "data.set_index('patient_id', inplace=True)\n",
    "nulls = data.isna().sum()[data.isna().sum() > 0]\n",
    "data = data.infer_objects()\n",
    "mutation_cols = [x for x in data.columns if 'mut' in x and x != 'mutation_count']\n",
    "data = pd.concat([data.drop(mutation_cols, 1), pd.get_dummies(data[mutation_cols])], axis=1)\n",
    "data = data.loc[:,~data.columns.duplicated()]\n",
    "data.death_from_cancer = data.death_from_cancer.apply(convert_death_from_cancer)"
   ]
  },
  {
   "cell_type": "markdown",
   "metadata": {},
   "source": [
    "### Building Model to Predict Death From Cancer\n",
    "\n",
    "- Model building to predict death from cancer based only on the proteomic data. I will assess the model and establish a picture of the most important features in the dataset."
   ]
  },
  {
   "cell_type": "code",
   "execution_count": 41,
   "metadata": {},
   "outputs": [],
   "source": [
    "def preprocess_data(data):\n",
    "    columns_to_impute = ['cancer_type_detailed', 'neoplasm_histologic_grade', 'tumor_other_histologic_subtype', 'primary_tumor_laterality', 'oncotree_code', '3-gene_classifier_subtype', 'tumor_stage']\n",
    "    data, metrics = mu.data_imputer(data, columns_to_impute)\n",
    "    data = pd.concat([data.select_dtypes(exclude=['object']), pd.get_dummies(data.select_dtypes('object'))], axis=1)\n",
    "    data.fillna(-1, inplace=True)\n",
    "    return data"
   ]
  },
  {
   "cell_type": "code",
   "execution_count": 42,
   "metadata": {},
   "outputs": [
    {
     "data": {
      "text/plain": [
       "XGBClassifier(base_score=0.5, booster='gbtree', colsample_bylevel=1,\n",
       "              colsample_bynode=1, colsample_bytree=1, gamma=0,\n",
       "              learning_rate=0.1, max_delta_step=0, max_depth=5,\n",
       "              min_child_weight=1, missing=None, n_estimators=100, n_jobs=1,\n",
       "              nthread=None, objective='binary:logistic', random_state=0,\n",
       "              reg_alpha=0, reg_lambda=1, scale_pos_weight=1, seed=None,\n",
       "              silent=None, subsample=1, verbosity=1)"
      ]
     },
     "execution_count": 42,
     "metadata": {},
     "output_type": "execute_result"
    }
   ],
   "source": [
    "protein_columns = data.columns[29:]\n",
    "X, y = data[protein_columns], data.death_from_cancer\n",
    "X_train, X_test, y_train, y_test = train_test_split(X, y, stratify=y, test_size=0.15)\n",
    "xgb_clf = XGBClassifier(max_depth=5)\n",
    "xgb_clf.fit(X_train, y_train)"
   ]
  },
  {
   "cell_type": "code",
   "execution_count": 48,
   "metadata": {},
   "outputs": [],
   "source": [
    "xgb_metrics = mu.assess_model(xgb_clf, X_test, y_test, features=X.columns)"
   ]
  },
  {
   "cell_type": "code",
   "execution_count": 50,
   "metadata": {},
   "outputs": [
    {
     "data": {
      "text/plain": [
       "<AxesSubplot:title={'center':'Receiver Operator Characteristic Curve'}, xlabel='FPR', ylabel='TPR'>"
      ]
     },
     "execution_count": 50,
     "metadata": {},
     "output_type": "execute_result"
    },
    {
     "data": {
      "image/png": "[encoded data removed]",
      "text/plain": [
       "<Figure size 432x216 with 1 Axes>"
      ]
     },
     "metadata": {
      "needs_background": "light"
     },
     "output_type": "display_data"
    }
   ],
   "source": [
    "mu.plot_roc_curve(xgb_metrics['roc_curve'], optimal_point=True)"
   ]
  },
  {
   "cell_type": "code",
   "execution_count": 51,
   "metadata": {
    "scrolled": false
   },
   "outputs": [
    {
     "data": {
      "image/png": "[encoded data removed]",
      "text/plain": [
       "<Figure size 360x720 with 1 Axes>"
      ]
     },
     "metadata": {
      "needs_background": "light"
     },
     "output_type": "display_data"
    }
   ],
   "source": [
    "mu.plot_feature_importance(xgb_metrics['feature_importance'], n_features=20)\n",
    "plt.savefig('Feature_importance.png')"
   ]
  },
  {
   "cell_type": "code",
   "execution_count": 52,
   "metadata": {},
   "outputs": [
    {
     "data": {
      "image/png": "[encoded data removed]",
      "text/plain": [
       "<Figure size 432x288 with 2 Axes>"
      ]
     },
     "metadata": {
      "needs_background": "light"
     },
     "output_type": "display_data"
    }
   ],
   "source": [
    "mu.plot_confusion_matrix(xgb_metrics['cf_matrix'])"
   ]
  },
  {
   "cell_type": "code",
   "execution_count": 55,
   "metadata": {},
   "outputs": [
    {
     "data": {
      "text/plain": [
       "<AxesSubplot:>"
      ]
     },
     "execution_count": 55,
     "metadata": {},
     "output_type": "execute_result"
    },
    {
     "data": {
      "image/png": "[encoded data removed]",
      "text/plain": [
       "<Figure size 432x288 with 1 Axes>"
      ]
     },
     "metadata": {
      "needs_background": "light"
     },
     "output_type": "display_data"
    }
   ],
   "source": [
    "pd.Series(xgb_clf.predict_proba(X_test)[:, 1]).hist()"
   ]
  },
  {
   "cell_type": "markdown",
   "metadata": {},
   "source": [
    "### Building Model to predict effectiveness of chemo"
   ]
  },
  {
   "cell_type": "code",
   "execution_count": 341,
   "metadata": {},
   "outputs": [
    {
     "data": {
      "text/plain": [
       "<module 'model_utils' from 'C:\\\\Users\\\\tjs_1\\\\OneDrive\\\\Documents\\\\Git repos\\\\Metabric-RNA-Mutation\\\\model_utils.py'>"
      ]
     },
     "execution_count": 341,
     "metadata": {},
     "output_type": "execute_result"
    }
   ],
   "source": [
    "reload(mu)"
   ]
  },
  {
   "cell_type": "code",
   "execution_count": 466,
   "metadata": {},
   "outputs": [],
   "source": [
    "def get_cellularity(data):\n",
    "    if data in ['Low', 'Moderate']:\n",
    "        return 1\n",
    "    else:\n",
    "        return 0"
   ]
  },
  {
   "cell_type": "code",
   "execution_count": 467,
   "metadata": {},
   "outputs": [],
   "source": [
    "data = pd.read_csv('Data/METABRIC_RNA_Mutation.csv')\n",
    "data.drop(['cancer_type', 'cohort'], axis=1, inplace=True)\n",
    "data.set_index('patient_id', inplace=True)"
   ]
  },
  {
   "cell_type": "code",
   "execution_count": 468,
   "metadata": {},
   "outputs": [],
   "source": [
    "data = data.infer_objects()\n",
    "data.cellularity = data.cellularity.apply(get_cellularity)\n",
    "mutation_cols = [x for x in data.columns if 'mut' in x and x != 'mutation_count']\n",
    "data = pd.concat([data.drop(mutation_cols, 1), pd.get_dummies(data[mutation_cols])], axis=1)\n",
    "data = data.loc[:,~data.columns.duplicated()]\n",
    "chemo_data = data[data.chemotherapy == 1].copy()\n",
    "chemo_data.drop(['overall_survival', 'overall_survival_months', 'chemotherapy', 'death_from_cancer'], 1, inplace=True)"
   ]
  },
  {
   "cell_type": "code",
   "execution_count": 470,
   "metadata": {},
   "outputs": [],
   "source": [
    "X, y = chemo_data.drop('cellularity', 1), chemo_data.cellularity\n",
    "X_train, X_test, y_train, y_test = train_test_split(X, y, stratify=y, test_size=0.2)\n",
    "preprocessor = mu.data_preprocessor()\n",
    "X_train = preprocessor.fit_transform(X_train)\n",
    "X_test = preprocessor.transform(X_test)"
   ]
  },
  {
   "cell_type": "code",
   "execution_count": 471,
   "metadata": {},
   "outputs": [],
   "source": [
    "chemo_xgb = XGBClassifier(max_depth=5)\n",
    "chemo_rf = RandomForestClassifier(n_estimators=1000, max_depth=5)"
   ]
  },
  {
   "cell_type": "code",
   "execution_count": 472,
   "metadata": {},
   "outputs": [
    {
     "data": {
      "text/plain": [
       "XGBClassifier(base_score=0.5, booster='gbtree', colsample_bylevel=1,\n",
       "              colsample_bynode=1, colsample_bytree=1, gamma=0,\n",
       "              learning_rate=0.1, max_delta_step=0, max_depth=5,\n",
       "              min_child_weight=1, missing=None, n_estimators=100, n_jobs=1,\n",
       "              nthread=None, objective='binary:logistic', random_state=0,\n",
       "              reg_alpha=0, reg_lambda=1, scale_pos_weight=1, seed=None,\n",
       "              silent=None, subsample=1, verbosity=1)"
      ]
     },
     "execution_count": 472,
     "metadata": {},
     "output_type": "execute_result"
    }
   ],
   "source": [
    "chemo_xgb.fit(X_train.values, y_train.values) "
   ]
  },
  {
   "cell_type": "code",
   "execution_count": 473,
   "metadata": {},
   "outputs": [
    {
     "data": {
      "text/plain": [
       "RandomForestClassifier(bootstrap=True, class_weight=None, criterion='gini',\n",
       "                       max_depth=5, max_features='auto', max_leaf_nodes=None,\n",
       "                       min_impurity_decrease=0.0, min_impurity_split=None,\n",
       "                       min_samples_leaf=1, min_samples_split=2,\n",
       "                       min_weight_fraction_leaf=0.0, n_estimators=1000,\n",
       "                       n_jobs=None, oob_score=False, random_state=None,\n",
       "                       verbose=0, warm_start=False)"
      ]
     },
     "execution_count": 473,
     "metadata": {},
     "output_type": "execute_result"
    }
   ],
   "source": [
    "chemo_rf.fit(X_train, y_train)"
   ]
  },
  {
   "cell_type": "code",
   "execution_count": 433,
   "metadata": {
    "scrolled": false
   },
   "outputs": [
    {
     "name": "stderr",
     "output_type": "stream",
     "text": [
      "C:\\Users\\tjs_1\\Anaconda3\\lib\\site-packages\\sklearn\\metrics\\classification.py:1437: UndefinedMetricWarning: Precision and F-score are ill-defined and being set to 0.0 in labels with no predicted samples.\n",
      "  'precision', 'predicted', average, warn_for)\n",
      "C:\\Users\\tjs_1\\Anaconda3\\lib\\site-packages\\sklearn\\metrics\\classification.py:1437: UndefinedMetricWarning: Precision and F-score are ill-defined and being set to 0.0 in labels with no predicted samples.\n",
      "  'precision', 'predicted', average, warn_for)\n"
     ]
    }
   ],
   "source": [
    "chemo_xgb_metrics = mu.assess_model(chemo_xgb, X_test.values, y_test.values, binary_target=True, features=X_test.columns, threshold=0.981673)\n",
    "chemo_rf_metrics = mu.assess_model(chemo_rf, X_test.values, y_test.values, binary_target=True, features=X_test.columns, threshold=0.899191)"
   ]
  },
  {
   "cell_type": "code",
   "execution_count": 474,
   "metadata": {},
   "outputs": [
    {
     "data": {
      "text/plain": [
       "<AxesSubplot:title={'center':'Receiver Operator Characteristic Curve'}, xlabel='FPR', ylabel='TPR'>"
      ]
     },
     "execution_count": 474,
     "metadata": {},
     "output_type": "execute_result"
    },
    {
     "data": {
      "image/png": "[encoded data removed]",
      "text/plain": [
       "<Figure size 432x216 with 1 Axes>"
      ]
     },
     "metadata": {
      "needs_background": "light"
     },
     "output_type": "display_data"
    }
   ],
   "source": [
    "mu.plot_roc_curve(chemo_xgb_metrics['roc_curve'], optimal_point=True)"
   ]
  },
  {
   "cell_type": "code",
   "execution_count": 489,
   "metadata": {},
   "outputs": [
    {
     "data": {
      "text/plain": [
       "<AxesSubplot:xlabel='Importance', ylabel='Feature'>"
      ]
     },
     "execution_count": 489,
     "metadata": {},
     "output_type": "execute_result"
    },
    {
     "data": {
      "image/png": "[encoded data removed]",
      "text/plain": [
       "<Figure size 360x360 with 1 Axes>"
      ]
     },
     "metadata": {
      "needs_background": "light"
     },
     "output_type": "display_data"
    }
   ],
   "source": [
    "mu.plot_feature_importance(chemo_xgb_metrics['feature_importance'], n_features=10)"
   ]
  },
  {
   "cell_type": "markdown",
   "metadata": {},
   "source": [
    "#### Applying GridSearchCV for the above RF classifier"
   ]
  },
  {
   "cell_type": "code",
   "execution_count": 490,
   "metadata": {},
   "outputs": [
    {
     "name": "stdout",
     "output_type": "stream",
     "text": [
      "Fitting 5 folds for each of 90 candidates, totalling 450 fits\n"
     ]
    },
    {
     "name": "stderr",
     "output_type": "stream",
     "text": [
      "[Parallel(n_jobs=-1)]: Using backend LokyBackend with 8 concurrent workers.\n",
      "[Parallel(n_jobs=-1)]: Done   2 tasks      | elapsed:    4.0s\n",
      "[Parallel(n_jobs=-1)]: Done   9 tasks      | elapsed:    4.3s\n",
      "[Parallel(n_jobs=-1)]: Done  16 tasks      | elapsed:    5.0s\n",
      "[Parallel(n_jobs=-1)]: Done  25 tasks      | elapsed:    6.0s\n",
      "[Parallel(n_jobs=-1)]: Done  34 tasks      | elapsed:    7.8s\n",
      "[Parallel(n_jobs=-1)]: Done  45 tasks      | elapsed:   11.8s\n",
      "[Parallel(n_jobs=-1)]: Done  56 tasks      | elapsed:   13.3s\n",
      "[Parallel(n_jobs=-1)]: Done  69 tasks      | elapsed:   15.5s\n",
      "[Parallel(n_jobs=-1)]: Done  82 tasks      | elapsed:   18.4s\n",
      "[Parallel(n_jobs=-1)]: Done  97 tasks      | elapsed:   24.4s\n",
      "[Parallel(n_jobs=-1)]: Done 112 tasks      | elapsed:   27.1s\n",
      "[Parallel(n_jobs=-1)]: Done 129 tasks      | elapsed:   30.6s\n",
      "[Parallel(n_jobs=-1)]: Done 146 tasks      | elapsed:   38.9s\n",
      "[Parallel(n_jobs=-1)]: Done 165 tasks      | elapsed:   42.2s\n",
      "[Parallel(n_jobs=-1)]: Done 184 tasks      | elapsed:   48.1s\n",
      "[Parallel(n_jobs=-1)]: Done 205 tasks      | elapsed:   56.2s\n",
      "[Parallel(n_jobs=-1)]: Done 226 tasks      | elapsed:  1.0min\n",
      "[Parallel(n_jobs=-1)]: Done 249 tasks      | elapsed:  1.2min\n",
      "[Parallel(n_jobs=-1)]: Done 272 tasks      | elapsed:  1.3min\n",
      "[Parallel(n_jobs=-1)]: Done 297 tasks      | elapsed:  1.5min\n",
      "[Parallel(n_jobs=-1)]: Done 322 tasks      | elapsed:  1.6min\n",
      "[Parallel(n_jobs=-1)]: Done 349 tasks      | elapsed:  1.9min\n",
      "[Parallel(n_jobs=-1)]: Done 376 tasks      | elapsed:  2.1min\n",
      "[Parallel(n_jobs=-1)]: Done 405 tasks      | elapsed:  2.4min\n",
      "[Parallel(n_jobs=-1)]: Done 434 tasks      | elapsed:  2.7min\n",
      "[Parallel(n_jobs=-1)]: Done 450 out of 450 | elapsed:  3.0min finished\n",
      "C:\\Users\\tjs_1\\Anaconda3\\lib\\site-packages\\sklearn\\model_selection\\_search.py:814: DeprecationWarning: The default of the `iid` parameter will change from True to False in version 0.22 and will be removed in 0.24. This will change numeric results when test-set sizes are unequal.\n",
      "  DeprecationWarning)\n"
     ]
    },
    {
     "data": {
      "text/plain": [
       "GridSearchCV(cv=5, error_score='raise-deprecating',\n",
       "             estimator=RandomForestClassifier(bootstrap=True, class_weight=None,\n",
       "                                              criterion='gini', max_depth=5,\n",
       "                                              max_features='auto',\n",
       "                                              max_leaf_nodes=None,\n",
       "                                              min_impurity_decrease=0.0,\n",
       "                                              min_impurity_split=None,\n",
       "                                              min_samples_leaf=1,\n",
       "                                              min_samples_split=2,\n",
       "                                              min_weight_fraction_leaf=0.0,\n",
       "                                              n_estimators=1000, n_jobs=None,\n",
       "                                              oob_score=False,\n",
       "                                              random_state=None, verbose=0,\n",
       "                                              warm_start=False),\n",
       "             iid='warn', n_jobs=-1,\n",
       "             param_grid={'max_depth': [2, 4, 5, 6, 8, 10, 15, 20, 25],\n",
       "                         'n_estimators': [50, 100, 200, 300, 400, 500, 750,\n",
       "                                          1000, 1500, 2000]},\n",
       "             pre_dispatch='2*n_jobs', refit=True, return_train_score=False,\n",
       "             scoring='roc_auc', verbose=10)"
      ]
     },
     "execution_count": 490,
     "metadata": {},
     "output_type": "execute_result"
    }
   ],
   "source": [
    "param_grid = {'n_estimators': [50, 100, 200, 300, 400, 500, 750, 1000, 1500, 2000], 'max_depth': [2, 4, 5, 6, 8, 10, 15, 20, 25]}\n",
    "grid_search_rf = GridSearchCV(chemo_rf, param_grid=param_grid, n_jobs=-1, verbose=10, cv=5, scoring='roc_auc')\n",
    "grid_search_rf.fit(X_train, y_train)"
   ]
  },
  {
   "cell_type": "code",
   "execution_count": 497,
   "metadata": {},
   "outputs": [],
   "source": [
    "chemo_rf_metrics = mu.assess_model(grid_search_rf.best_estimator_, X_test.values, y_test.values, binary_target=True, features=X_test.columns, threshold=0.412229)"
   ]
  },
  {
   "cell_type": "code",
   "execution_count": 498,
   "metadata": {},
   "outputs": [
    {
     "data": {
      "text/plain": [
       "<AxesSubplot:title={'center':'Receiver Operator Characteristic Curve'}, xlabel='FPR', ylabel='TPR'>"
      ]
     },
     "execution_count": 498,
     "metadata": {},
     "output_type": "execute_result"
    },
    {
     "data": {
      "image/png": "[encoded data removed]",
      "text/plain": [
       "<Figure size 432x216 with 1 Axes>"
      ]
     },
     "metadata": {
      "needs_background": "light"
     },
     "output_type": "display_data"
    }
   ],
   "source": [
    "mu.plot_roc_curve(chemo_rf_metrics['roc_curve'], optimal_point=True)"
   ]
  },
  {
   "cell_type": "code",
   "execution_count": 500,
   "metadata": {},
   "outputs": [
    {
     "name": "stdout",
     "output_type": "stream",
     "text": [
      "              precision    recall  f1-score   support\n",
      "\n",
      "           0       0.74      0.62      0.67        47\n",
      "           1       0.56      0.70      0.62        33\n",
      "\n",
      "    accuracy                           0.65        80\n",
      "   macro avg       0.65      0.66      0.65        80\n",
      "weighted avg       0.67      0.65      0.65        80\n",
      "\n"
     ]
    }
   ],
   "source": [
    "print(chemo_rf_metrics['classification_report'])"
   ]
  },
  {
   "cell_type": "code",
   "execution_count": 501,
   "metadata": {},
   "outputs": [
    {
     "data": {
      "text/plain": [
       "<AxesSubplot:xlabel='Importance', ylabel='Feature'>"
      ]
     },
     "execution_count": 501,
     "metadata": {},
     "output_type": "execute_result"
    },
    {
     "data": {
      "image/png": "[encoded data removed]",
      "text/plain": [
       "<Figure size 360x360 with 1 Axes>"
      ]
     },
     "metadata": {
      "needs_background": "light"
     },
     "output_type": "display_data"
    }
   ],
   "source": [
    "mu.plot_feature_importance(chemo_rf_metrics['feature_importance'], n_features=10)"
   ]
  },
  {
   "cell_type": "markdown",
   "metadata": {},
   "source": [
    "### Cluster Based Analysis"
   ]
  },
  {
   "cell_type": "markdown",
   "metadata": {},
   "source": [
    "I will create groupings of individuals based purely on the proteomic data and observe how groupings correlate with death rate."
   ]
  },
  {
   "cell_type": "code",
   "execution_count": 21,
   "metadata": {},
   "outputs": [],
   "source": [
    "from mpl_toolkits.mplot3d import Axes3D"
   ]
  },
  {
   "cell_type": "code",
   "execution_count": 8,
   "metadata": {},
   "outputs": [],
   "source": [
    "protein_data = data[protein_columns]"
   ]
  },
  {
   "cell_type": "code",
   "execution_count": 18,
   "metadata": {},
   "outputs": [],
   "source": [
    "knn = KMeans(n_clusters=5)\n",
    "labels = pd.DataFrame(knn.fit_predict(protein_data), index=protein_data.index, columns=['cluster'])\n",
    "protein_data_with_label = pd.concat([protein_data, labels], 1)\n",
    "# pca = PCA(2)\n",
    "# pca_protein_data = pca.fit_transform(protein_data)\n",
    "# cluster_data = pd.DataFrame(np.concatenate([pca_protein_data, labels.reshape(-1, 1)], axis=1), columns=['dim_1', 'dim_2', 'label'])"
   ]
  },
  {
   "cell_type": "code",
   "execution_count": 36,
   "metadata": {},
   "outputs": [],
   "source": [
    "pca = PCA(3)\n",
    "pca_protein_data = pca.fit_transform(protein_data)\n"
   ]
  },
  {
   "cell_type": "code",
   "execution_count": 37,
   "metadata": {},
   "outputs": [],
   "source": [
    "pca_protein_data = pd.DataFrame(pca_protein_data)"
   ]
  },
  {
   "cell_type": "code",
   "execution_count": 38,
   "metadata": {},
   "outputs": [],
   "source": [
    "pca_protein_data = pd.concat([pca_protein_data, data['overall_survival'].reset_index(drop=True)], axis=1)"
   ]
  },
  {
   "cell_type": "code",
   "execution_count": 53,
   "metadata": {},
   "outputs": [
    {
     "data": {
      "text/plain": [
       "0.6492146596858639"
      ]
     },
     "execution_count": 53,
     "metadata": {},
     "output_type": "execute_result"
    }
   ],
   "source": [
    "X_train, X_test, y_train, y_test = train_test_split(protein_data, pca_protein_data['overall_survival'], test_size=0.1, stratify=pca_protein_data['overall_survival'])\n",
    "xgb = XGBClassifier(max_depth=5)\n",
    "xgb.fit(X_train, y_train)\n",
    "accuracy_score(xgb.predict(X_test), y_test)"
   ]
  },
  {
   "cell_type": "code",
   "execution_count": 72,
   "metadata": {},
   "outputs": [],
   "source": [
    "most_important_protein_data = protein_data[pd.DataFrame(np.array(list(zip(protein_data.columns, xgb.feature_importances_))), columns=['Feature', 'Importance']).sort_values('Importance', ascending=False)[:10].Feature]"
   ]
  },
  {
   "cell_type": "code",
   "execution_count": 237,
   "metadata": {},
   "outputs": [],
   "source": [
    "def get_death_rate(data):\n",
    "    return (data['death_from_cancer'] == 'Died of Disease').sum() / data.shape[0]"
   ]
  },
  {
   "cell_type": "code",
   "execution_count": 238,
   "metadata": {},
   "outputs": [],
   "source": [
    "data_ = pd.concat([data, pd.DataFrame(labels, columns=['Cluster'], index=data.index)], axis=1)"
   ]
  },
  {
   "cell_type": "code",
   "execution_count": 239,
   "metadata": {},
   "outputs": [
    {
     "data": {
      "text/plain": [
       "1    900\n",
       "0    618\n",
       "2    386\n",
       "Name: Cluster, dtype: int64"
      ]
     },
     "execution_count": 239,
     "metadata": {},
     "output_type": "execute_result"
    }
   ],
   "source": [
    "data_.Cluster.value_counts()"
   ]
  },
  {
   "cell_type": "code",
   "execution_count": 240,
   "metadata": {},
   "outputs": [
    {
     "data": {
      "text/plain": [
       "Cluster\n",
       "0    0.351133\n",
       "1    0.275556\n",
       "2    0.409326\n",
       "dtype: float64"
      ]
     },
     "execution_count": 240,
     "metadata": {},
     "output_type": "execute_result"
    }
   ],
   "source": [
    "data_.groupby('Cluster').apply(get_death_rate)"
   ]
  }
 ],
 "metadata": {
  "kernelspec": {
   "display_name": "Python 3",
   "language": "python",
   "name": "python3"
  },
  "language_info": {
   "codemirror_mode": {
    "name": "ipython",
    "version": 3
   },
   "file_extension": ".py",
   "mimetype": "text/x-python",
   "name": "python",
   "nbconvert_exporter": "python",
   "pygments_lexer": "ipython3",
   "version": "3.7.4"
  }
 },
 "nbformat": 4,
 "nbformat_minor": 2
}
